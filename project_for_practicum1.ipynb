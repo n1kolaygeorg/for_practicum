{
 "cells": [
  {
   "cell_type": "markdown",
   "metadata": {
    "toc": true
   },
   "source": [
    "<h1>Содержание<span class=\"tocSkip\"></span></h1>\n",
    "<div class=\"toc\"><ul class=\"toc-item\"><li><span><a href=\"#Подготовка-данных\" data-toc-modified-id=\"Подготовка-данных-1\"><span class=\"toc-item-num\">1&nbsp;&nbsp;</span>Подготовка данных</a></span></li><li><span><a href=\"#Исследование-задачи\" data-toc-modified-id=\"Исследование-задачи-2\"><span class=\"toc-item-num\">2&nbsp;&nbsp;</span>Исследование задачи</a></span></li><li><span><a href=\"#Борьба-с-дисбалансом\" data-toc-modified-id=\"Борьба-с-дисбалансом-3\"><span class=\"toc-item-num\">3&nbsp;&nbsp;</span>Борьба с дисбалансом</a></span></li><li><span><a href=\"#Тестирование-модели\" data-toc-modified-id=\"Тестирование-модели-4\"><span class=\"toc-item-num\">4&nbsp;&nbsp;</span>Тестирование модели</a></span></li></ul></div>"
   ]
  },
  {
   "cell_type": "markdown",
   "metadata": {},
   "source": [
    "# Отток клиентов"
   ]
  },
  {
   "cell_type": "markdown",
   "metadata": {},
   "source": [
    "Из «Бета-Банка» стали уходить клиенты. Каждый месяц. Немного, но заметно. Банковские маркетологи посчитали: сохранять текущих клиентов дешевле, чем привлекать новых.\n",
    "\n",
    "Нужно спрогнозировать, уйдёт клиент из банка в ближайшее время или нет. Вам предоставлены исторические данные о поведении клиентов и расторжении договоров с банком. \n",
    "\n",
    "Постройте модель с предельно большим значением *F1*-меры. Чтобы сдать проект успешно, нужно довести метрику до 0.59. Проверьте *F1*-меру на тестовой выборке самостоятельно.\n",
    "\n",
    "Дополнительно измеряйте *AUC-ROC*, сравнивайте её значение с *F1*-мерой.\n",
    "\n",
    "Источник данных: [https://www.kaggle.com/barelydedicated/bank-customer-churn-modeling](https://www.kaggle.com/barelydedicated/bank-customer-churn-modeling)"
   ]
  },
  {
   "cell_type": "markdown",
   "metadata": {},
   "source": [
    "## Подготовка данных"
   ]
  },
  {
   "cell_type": "code",
   "execution_count": 1,
   "metadata": {},
   "outputs": [],
   "source": [
    "import pandas as pd # импортируем необходимые библиотеки\n",
    "import numpy as np\n",
    "from sklearn.preprocessing import StandardScaler \n",
    "from sklearn.model_selection import train_test_split\n",
    "from sklearn.linear_model import LogisticRegression\n",
    "from sklearn.tree import DecisionTreeClassifier \n",
    "from sklearn.ensemble import RandomForestClassifier \n",
    "from sklearn.metrics import f1_score\n",
    "from sklearn.metrics import roc_auc_score, roc_curve\n",
    "from sklearn.utils import shuffle\n",
    "from sklearn.metrics import accuracy_score\n",
    "from sklearn.dummy import DummyClassifier"
   ]
  },
  {
   "cell_type": "code",
   "execution_count": 2,
   "metadata": {},
   "outputs": [],
   "source": [
    "df = pd.read_csv(\"/datasets/Churn.csv\") # прочитаю и запишу датасет в переменную df"
   ]
  },
  {
   "cell_type": "code",
   "execution_count": 3,
   "metadata": {},
   "outputs": [
    {
     "name": "stdout",
     "output_type": "stream",
     "text": [
      "<class 'pandas.core.frame.DataFrame'>\n",
      "RangeIndex: 10000 entries, 0 to 9999\n",
      "Data columns (total 14 columns):\n",
      " #   Column           Non-Null Count  Dtype  \n",
      "---  ------           --------------  -----  \n",
      " 0   RowNumber        10000 non-null  int64  \n",
      " 1   CustomerId       10000 non-null  int64  \n",
      " 2   Surname          10000 non-null  object \n",
      " 3   CreditScore      10000 non-null  int64  \n",
      " 4   Geography        10000 non-null  object \n",
      " 5   Gender           10000 non-null  object \n",
      " 6   Age              10000 non-null  int64  \n",
      " 7   Tenure           9091 non-null   float64\n",
      " 8   Balance          10000 non-null  float64\n",
      " 9   NumOfProducts    10000 non-null  int64  \n",
      " 10  HasCrCard        10000 non-null  int64  \n",
      " 11  IsActiveMember   10000 non-null  int64  \n",
      " 12  EstimatedSalary  10000 non-null  float64\n",
      " 13  Exited           10000 non-null  int64  \n",
      "dtypes: float64(3), int64(8), object(3)\n",
      "memory usage: 1.1+ MB\n"
     ]
    }
   ],
   "source": [
    "df.info() # просмотрю общую информацию о датасете"
   ]
  },
  {
   "cell_type": "code",
   "execution_count": 4,
   "metadata": {
    "scrolled": true
   },
   "outputs": [
    {
     "data": {
      "text/html": [
       "<div>\n",
       "<style scoped>\n",
       "    .dataframe tbody tr th:only-of-type {\n",
       "        vertical-align: middle;\n",
       "    }\n",
       "\n",
       "    .dataframe tbody tr th {\n",
       "        vertical-align: top;\n",
       "    }\n",
       "\n",
       "    .dataframe thead th {\n",
       "        text-align: right;\n",
       "    }\n",
       "</style>\n",
       "<table border=\"1\" class=\"dataframe\">\n",
       "  <thead>\n",
       "    <tr style=\"text-align: right;\">\n",
       "      <th></th>\n",
       "      <th>RowNumber</th>\n",
       "      <th>CustomerId</th>\n",
       "      <th>Surname</th>\n",
       "      <th>CreditScore</th>\n",
       "      <th>Geography</th>\n",
       "      <th>Gender</th>\n",
       "      <th>Age</th>\n",
       "      <th>Tenure</th>\n",
       "      <th>Balance</th>\n",
       "      <th>NumOfProducts</th>\n",
       "      <th>HasCrCard</th>\n",
       "      <th>IsActiveMember</th>\n",
       "      <th>EstimatedSalary</th>\n",
       "      <th>Exited</th>\n",
       "    </tr>\n",
       "  </thead>\n",
       "  <tbody>\n",
       "    <tr>\n",
       "      <th>0</th>\n",
       "      <td>1</td>\n",
       "      <td>15634602</td>\n",
       "      <td>Hargrave</td>\n",
       "      <td>619</td>\n",
       "      <td>France</td>\n",
       "      <td>Female</td>\n",
       "      <td>42</td>\n",
       "      <td>2.0</td>\n",
       "      <td>0.00</td>\n",
       "      <td>1</td>\n",
       "      <td>1</td>\n",
       "      <td>1</td>\n",
       "      <td>101348.88</td>\n",
       "      <td>1</td>\n",
       "    </tr>\n",
       "    <tr>\n",
       "      <th>1</th>\n",
       "      <td>2</td>\n",
       "      <td>15647311</td>\n",
       "      <td>Hill</td>\n",
       "      <td>608</td>\n",
       "      <td>Spain</td>\n",
       "      <td>Female</td>\n",
       "      <td>41</td>\n",
       "      <td>1.0</td>\n",
       "      <td>83807.86</td>\n",
       "      <td>1</td>\n",
       "      <td>0</td>\n",
       "      <td>1</td>\n",
       "      <td>112542.58</td>\n",
       "      <td>0</td>\n",
       "    </tr>\n",
       "    <tr>\n",
       "      <th>2</th>\n",
       "      <td>3</td>\n",
       "      <td>15619304</td>\n",
       "      <td>Onio</td>\n",
       "      <td>502</td>\n",
       "      <td>France</td>\n",
       "      <td>Female</td>\n",
       "      <td>42</td>\n",
       "      <td>8.0</td>\n",
       "      <td>159660.80</td>\n",
       "      <td>3</td>\n",
       "      <td>1</td>\n",
       "      <td>0</td>\n",
       "      <td>113931.57</td>\n",
       "      <td>1</td>\n",
       "    </tr>\n",
       "    <tr>\n",
       "      <th>3</th>\n",
       "      <td>4</td>\n",
       "      <td>15701354</td>\n",
       "      <td>Boni</td>\n",
       "      <td>699</td>\n",
       "      <td>France</td>\n",
       "      <td>Female</td>\n",
       "      <td>39</td>\n",
       "      <td>1.0</td>\n",
       "      <td>0.00</td>\n",
       "      <td>2</td>\n",
       "      <td>0</td>\n",
       "      <td>0</td>\n",
       "      <td>93826.63</td>\n",
       "      <td>0</td>\n",
       "    </tr>\n",
       "    <tr>\n",
       "      <th>4</th>\n",
       "      <td>5</td>\n",
       "      <td>15737888</td>\n",
       "      <td>Mitchell</td>\n",
       "      <td>850</td>\n",
       "      <td>Spain</td>\n",
       "      <td>Female</td>\n",
       "      <td>43</td>\n",
       "      <td>2.0</td>\n",
       "      <td>125510.82</td>\n",
       "      <td>1</td>\n",
       "      <td>1</td>\n",
       "      <td>1</td>\n",
       "      <td>79084.10</td>\n",
       "      <td>0</td>\n",
       "    </tr>\n",
       "  </tbody>\n",
       "</table>\n",
       "</div>"
      ],
      "text/plain": [
       "   RowNumber  CustomerId   Surname  CreditScore Geography  Gender  Age  \\\n",
       "0          1    15634602  Hargrave          619    France  Female   42   \n",
       "1          2    15647311      Hill          608     Spain  Female   41   \n",
       "2          3    15619304      Onio          502    France  Female   42   \n",
       "3          4    15701354      Boni          699    France  Female   39   \n",
       "4          5    15737888  Mitchell          850     Spain  Female   43   \n",
       "\n",
       "   Tenure    Balance  NumOfProducts  HasCrCard  IsActiveMember  \\\n",
       "0     2.0       0.00              1          1               1   \n",
       "1     1.0   83807.86              1          0               1   \n",
       "2     8.0  159660.80              3          1               0   \n",
       "3     1.0       0.00              2          0               0   \n",
       "4     2.0  125510.82              1          1               1   \n",
       "\n",
       "   EstimatedSalary  Exited  \n",
       "0        101348.88       1  \n",
       "1        112542.58       0  \n",
       "2        113931.57       1  \n",
       "3         93826.63       0  \n",
       "4         79084.10       0  "
      ]
     },
     "execution_count": 4,
     "metadata": {},
     "output_type": "execute_result"
    }
   ],
   "source": [
    "df.head() # выведу первые 5 строк датасета"
   ]
  },
  {
   "cell_type": "code",
   "execution_count": 5,
   "metadata": {
    "scrolled": true
   },
   "outputs": [
    {
     "data": {
      "text/plain": [
       "0"
      ]
     },
     "execution_count": 5,
     "metadata": {},
     "output_type": "execute_result"
    }
   ],
   "source": [
    "df.duplicated().sum() # проверю дубликаты"
   ]
  },
  {
   "cell_type": "code",
   "execution_count": 6,
   "metadata": {},
   "outputs": [],
   "source": [
    "df['Tenure']=df['Tenure'].fillna(0).astype('int64') # пропуски в столбце с тем, сколько лет клиент является абонентом заменю на 0"
   ]
  },
  {
   "cell_type": "code",
   "execution_count": 7,
   "metadata": {
    "scrolled": true
   },
   "outputs": [
    {
     "name": "stdout",
     "output_type": "stream",
     "text": [
      "<class 'pandas.core.frame.DataFrame'>\n",
      "RangeIndex: 10000 entries, 0 to 9999\n",
      "Data columns (total 14 columns):\n",
      " #   Column           Non-Null Count  Dtype  \n",
      "---  ------           --------------  -----  \n",
      " 0   RowNumber        10000 non-null  int64  \n",
      " 1   CustomerId       10000 non-null  int64  \n",
      " 2   Surname          10000 non-null  object \n",
      " 3   CreditScore      10000 non-null  int64  \n",
      " 4   Geography        10000 non-null  object \n",
      " 5   Gender           10000 non-null  object \n",
      " 6   Age              10000 non-null  int64  \n",
      " 7   Tenure           10000 non-null  int64  \n",
      " 8   Balance          10000 non-null  float64\n",
      " 9   NumOfProducts    10000 non-null  int64  \n",
      " 10  HasCrCard        10000 non-null  int64  \n",
      " 11  IsActiveMember   10000 non-null  int64  \n",
      " 12  EstimatedSalary  10000 non-null  float64\n",
      " 13  Exited           10000 non-null  int64  \n",
      "dtypes: float64(2), int64(9), object(3)\n",
      "memory usage: 1.1+ MB\n"
     ]
    }
   ],
   "source": [
    "df.info() # ещё раз просмотрю общую информацию о датасете после обработки пропусков"
   ]
  },
  {
   "cell_type": "code",
   "execution_count": 8,
   "metadata": {},
   "outputs": [],
   "source": [
    "df = df.drop(columns={'RowNumber','CustomerId', 'Surname'} , axis=1 )"
   ]
  },
  {
   "cell_type": "code",
   "execution_count": 9,
   "metadata": {},
   "outputs": [
    {
     "name": "stdout",
     "output_type": "stream",
     "text": [
      "<class 'pandas.core.frame.DataFrame'>\n",
      "RangeIndex: 10000 entries, 0 to 9999\n",
      "Data columns (total 11 columns):\n",
      " #   Column           Non-Null Count  Dtype  \n",
      "---  ------           --------------  -----  \n",
      " 0   CreditScore      10000 non-null  int64  \n",
      " 1   Geography        10000 non-null  object \n",
      " 2   Gender           10000 non-null  object \n",
      " 3   Age              10000 non-null  int64  \n",
      " 4   Tenure           10000 non-null  int64  \n",
      " 5   Balance          10000 non-null  float64\n",
      " 6   NumOfProducts    10000 non-null  int64  \n",
      " 7   HasCrCard        10000 non-null  int64  \n",
      " 8   IsActiveMember   10000 non-null  int64  \n",
      " 9   EstimatedSalary  10000 non-null  float64\n",
      " 10  Exited           10000 non-null  int64  \n",
      "dtypes: float64(2), int64(7), object(2)\n",
      "memory usage: 859.5+ KB\n"
     ]
    }
   ],
   "source": [
    "df.info()"
   ]
  },
  {
   "cell_type": "code",
   "execution_count": 10,
   "metadata": {},
   "outputs": [],
   "source": [
    "df = pd.get_dummies(df, drop_first=True)"
   ]
  },
  {
   "cell_type": "markdown",
   "metadata": {},
   "source": [
    "<div class=\"alert alert-info\">\n",
    "    <b>Комментарий студента:</b> Применим технику прямого кодирования, чтобы преобразовать категориальные переменные в количественные. Для каждого замененного категориального столбца в таблице появятся новые количественные столбцы. Поскольку они сильно связаны между собой, и чтобы не попасть в дамми-ловушку, я указал аргумент drop_first=True\n",
    "</div>"
   ]
  },
  {
   "cell_type": "code",
   "execution_count": 11,
   "metadata": {},
   "outputs": [],
   "source": [
    "scaler = StandardScaler() # разделю выборки\n",
    "target = df['Exited']\n",
    "features = df.drop('Exited', axis=1)\n",
    "features_train, features_2, target_train, target_2 = train_test_split(\n",
    "    features, target, test_size=0.4, random_state=12345)\n",
    "features_valid, features_test, target_valid, target_test = train_test_split(\n",
    "    features_2, target_2, test_size=0.5, random_state=12345)"
   ]
  },
  {
   "cell_type": "code",
   "execution_count": 12,
   "metadata": {},
   "outputs": [
    {
     "name": "stdout",
     "output_type": "stream",
     "text": [
      "6000\n",
      "2000\n",
      "2000\n",
      "6000\n",
      "2000\n",
      "2000\n"
     ]
    }
   ],
   "source": [
    "print(features_train.shape[0]) # проверю результат деления\n",
    "print(features_valid.shape[0])\n",
    "print(features_test.shape[0])\n",
    "\n",
    "print(target_train.shape[0])\n",
    "print(target_valid.shape[0])\n",
    "print(target_test.shape[0])"
   ]
  },
  {
   "cell_type": "code",
   "execution_count": 13,
   "metadata": {},
   "outputs": [],
   "source": [
    "scaler.fit(features_train) # преобразую обучающие, валидационные и тестовые выборки функцией transform()\n",
    "features_train = scaler.transform(features_train)\n",
    "features_valid = scaler.transform(features_valid)\n",
    "features_test = scaler.transform(features_test)"
   ]
  },
  {
   "cell_type": "markdown",
   "metadata": {},
   "source": [
    "<div class=\"alert alert-info\">\n",
    "    <b>Комментарий студента:</b> В этой части проекта я заполнил пропуски в столбце 'Tenure', перевёл столбцы с категориальными переменными в количественные, разделил данные на обучающую, валидационную и тестовую выборки, произвел масштабирование признаков с помощью метода стандартизации данных.\n",
    "</div>"
   ]
  },
  {
   "cell_type": "markdown",
   "metadata": {},
   "source": [
    "## Исследование задачи"
   ]
  },
  {
   "cell_type": "markdown",
   "metadata": {},
   "source": [
    "<div class=\"alert alert-info\">\n",
    "    <b>Комментарий студента:</b> Посмотрим, как соотносятся значения целевого признака друг к другу. Для этого вызовем метод value_counts для обучающей выборки. Чтобы сразу увидеть соотношение величин, в параметрах укажем normalize=True :\n",
    "</div>"
   ]
  },
  {
   "cell_type": "code",
   "execution_count": 14,
   "metadata": {
    "scrolled": true
   },
   "outputs": [
    {
     "data": {
      "text/plain": [
       "0    0.800667\n",
       "1    0.199333\n",
       "Name: Exited, dtype: float64"
      ]
     },
     "execution_count": 14,
     "metadata": {},
     "output_type": "execute_result"
    }
   ],
   "source": [
    "target_train.value_counts(normalize=True)"
   ]
  },
  {
   "cell_type": "markdown",
   "metadata": {},
   "source": [
    "<div class=\"alert alert-info\">\n",
    "    <b>Комментарий студента:</b> Как видим, классы несбалансированны, их соотношение примерно 4:1, а не 1:1. Баланс же классов наблюдается, если их количество примерно равно. Поэтому для определения точности модели метрика accuracy не подходит. Вместо будем использовать F1-меру. Также для сравнения будем сразу же подсчитывать метрику AUC-ROC. Обучим модель на обучающей выборке, и посчитаем значение F1-меры, AUC-ROC на данных валидационной выборки:\n",
    "</div>"
   ]
  },
  {
   "cell_type": "code",
   "execution_count": 15,
   "metadata": {},
   "outputs": [
    {
     "ename": "SyntaxError",
     "evalue": "invalid syntax (1100065502.py, line 7)",
     "output_type": "error",
     "traceback": [
      "\u001b[0;36m  File \u001b[0;32m\"/tmp/ipykernel_63/1100065502.py\"\u001b[0;36m, line \u001b[0;32m7\u001b[0m\n\u001b[0;31m    probabilities_one_valid = probabilities_valid[:, 1]ёи\u001b[0m\n\u001b[0m                                                       ^\u001b[0m\n\u001b[0;31mSyntaxError\u001b[0m\u001b[0;31m:\u001b[0m invalid syntax\n"
     ]
    }
   ],
   "source": [
    "model = LogisticRegression(random_state=12345, solver='liblinear')\n",
    "model.fit(features_train, target_train)\n",
    "predictions = model.predict(features_valid)\n",
    "valid_f1_score = f1_score(target_valid, predictions)\n",
    "print(\"Значение F1-меры:\", valid_f1_score)\n",
    "probabilities_valid = model.predict_proba(features_valid)\n",
    "probabilities_one_valid = probabilities_valid[:, 1]\n",
    "auc_roc = roc_auc_score(target_valid, probabilities_one_valid)\n",
    "print('Значение метрики AUC-ROC:', auc_roc)"
   ]
  },
  {
   "cell_type": "markdown",
   "metadata": {},
   "source": [
    "<div class=\"alert alert-info\">\n",
    "    <b>Комментарий студента:</b> Настроим гиперпараметры нашего дерева решений. Самый важный гиперпараметр решающего дерева отвечает за глубину — max_depth. В цикле переберем все значения max_depth от 1 до 15 включительно. Выведем на экран значения max_depth, которые позволяют достичь максимального размера F1-меры и метрики AUC-ROC:\n",
    "</div>"
   ]
  },
  {
   "cell_type": "code",
   "execution_count": null,
   "metadata": {
    "scrolled": true
   },
   "outputs": [],
   "source": [
    "col = ['max_depth', 'f1_score', 'auc_roc']\n",
    "data = []\n",
    "\n",
    "for depth in range(1, 16):\n",
    "    model = DecisionTreeClassifier(random_state=12345, max_depth=depth)\n",
    "    model.fit(features_train,target_train) \n",
    "    predictions = model.predict(features_valid)\n",
    "    valid_f1_score = f1_score(target_valid, predictions)\n",
    "    probabilities_valid = model.predict_proba(features_valid)\n",
    "    probabilities_one_valid = probabilities_valid[:, 1]\n",
    "    auc_roc = roc_auc_score(target_valid, probabilities_one_valid)\n",
    "    data.append([depth, valid_f1_score, auc_roc])\n",
    "table = pd.DataFrame(data = data, columns=col)\n",
    "display(table[table['f1_score']==table['f1_score'].max()]) \n",
    "display(table[table['auc_roc']==table['auc_roc'].max()])"
   ]
  },
  {
   "cell_type": "markdown",
   "metadata": {},
   "source": [
    "<div class=\"alert alert-info\">\n",
    "    <b>Комментарий студента:</b> Таким образом, значение F1-меры максимально и составляет 0.597 при значении max_depth=9. При этом максимальное значение метрики AUC-ROC (0.821) достигается при значении max_depth=5.\n",
    "</div>"
   ]
  },
  {
   "cell_type": "markdown",
   "metadata": {},
   "source": [
    "<div class=\"alert alert-info\">\n",
    "    <b>Комментарий студента:</b> Далее поработаем со случайным лесом. Чтобы управлять количеством деревьев в лесу, можно менять гиперпараметр n_estimators. Чем больше деревьев, тем дольше модель будет учиться, но результат станет лучше (и наоборот). Узнаем, какая величина n_estimators дает наилучший результат F1-меры и значения метрики AUC-ROC:\n",
    "</div>"
   ]
  },
  {
   "cell_type": "code",
   "execution_count": null,
   "metadata": {},
   "outputs": [],
   "source": [
    "col = ['n_estimators', 'f1_score', 'auc_roc']\n",
    "data = []\n",
    "\n",
    "for est in range(1, 50):\n",
    "    model = RandomForestClassifier(random_state=12345, n_estimators=est) \n",
    "    model.fit(features_train,target_train) \n",
    "    predictions = model.predict(features_valid)\n",
    "    f1 = f1_score(target_valid, predictions)\n",
    "    probabilities_valid = model.predict_proba(features_valid)\n",
    "    probabilities_one_valid = probabilities_valid[:, 1]\n",
    "    auc_roc = roc_auc_score(target_valid, probabilities_one_valid)\n",
    "    data.append([est, f1, auc_roc])\n",
    "table = pd.DataFrame(data = data, columns=col)\n",
    "display(table[table['f1_score']==table['f1_score'].max()]) \n",
    "display(table[table['auc_roc']==table['auc_roc'].max()])"
   ]
  },
  {
   "cell_type": "markdown",
   "metadata": {},
   "source": [
    "<div class=\"alert alert-info\">\n",
    "    <b>Комментарий студента:</b> Наибольшее значение F1-меры в 0.5 достигается при величине гиперпараметра n_estimators равного 71. Максимальное значение метрики AUC-ROC (0.828) достигается при n_estimators=83.\n",
    "</div>"
   ]
  },
  {
   "cell_type": "markdown",
   "metadata": {},
   "source": [
    "<div class=\"alert alert-info\">\n",
    "    <b>Комментарий студента:</b> В этой части работы мы обнаружили, классы несбалансированны, их соотношение примерно 4:1. Также мы изучили модели для решения задачи классификации и подсчитали для каждой из них значение F1-меры и AUC-ROC, меняя (где есть возможность) значение гиперпараметров.\n",
    "</div>"
   ]
  },
  {
   "cell_type": "markdown",
   "metadata": {},
   "source": [
    "## Борьба с дисбалансом"
   ]
  },
  {
   "cell_type": "code",
   "execution_count": null,
   "metadata": {
    "scrolled": true
   },
   "outputs": [],
   "source": [
    "model = LogisticRegression(random_state=12345, solver='liblinear', class_weight='balanced')\n",
    "model.fit(features_train, target_train)\n",
    "predictions = model.predict(features_valid)\n",
    "valid_f1_score = f1_score(target_valid, predictions)\n",
    "print(\"Значение F1-меры:\", valid_f1_score)\n",
    "probabilities_valid = model.predict_proba(features_valid)\n",
    "probabilities_one_valid = probabilities_valid[:, 1]\n",
    "auc_roc = roc_auc_score(target_valid, probabilities_one_valid)\n",
    "print('Значение метрики AUC-ROC:', auc_roc)"
   ]
  },
  {
   "cell_type": "markdown",
   "metadata": {},
   "source": [
    "<div class=\"alert alert-info\">\n",
    "    <b>Комментарий студента:</b> Как видим значение F1-меры увеличилилось и стало 0.366 (было 0.293).\n",
    "</div>"
   ]
  },
  {
   "cell_type": "code",
   "execution_count": null,
   "metadata": {
    "scrolled": true
   },
   "outputs": [],
   "source": [
    "col = ['max_depth', 'f1_score', 'auc_roc']\n",
    "data = []\n",
    "\n",
    "for depth in range(1, 16):\n",
    "    model = DecisionTreeClassifier(random_state=12345, max_depth=depth, class_weight='balanced')\n",
    "    model.fit(features_train,target_train) \n",
    "    predictions = model.predict(features_valid)\n",
    "    valid_f1_score = f1_score(target_valid, predictions)\n",
    "    probabilities_valid = model.predict_proba(features_valid)\n",
    "    probabilities_one_valid = probabilities_valid[:, 1]\n",
    "    auc_roc = roc_auc_score(target_valid, probabilities_one_valid)\n",
    "    data.append([depth, valid_f1_score, auc_roc])\n",
    "table = pd.DataFrame(data = data, columns=col)\n",
    "display(table[table['f1_score']==table['f1_score'].max()]) \n",
    "display(table[table['auc_roc']==table['auc_roc'].max()])"
   ]
  },
  {
   "cell_type": "markdown",
   "metadata": {},
   "source": [
    "<div class=\"alert alert-info\">\n",
    "    <b>Комментарий студента:</b> Как видим, теперь и максимальное значение F1-меры и значение метрики AUC-ROC достигаются при значении параметра max_depth = 5.\n",
    "</div>"
   ]
  },
  {
   "cell_type": "code",
   "execution_count": null,
   "metadata": {
    "scrolled": false
   },
   "outputs": [],
   "source": [
    "col = ['n_estimators', 'f1_score', 'auc_roc']\n",
    "data = []\n",
    "\n",
    "for est in range(1, 100):\n",
    "    model = RandomForestClassifier(random_state=12345, n_estimators=est, class_weight='balanced') \n",
    "    model.fit(features_train,target_train) \n",
    "    predictions = model.predict(features_valid)\n",
    "    f1 = f1_score(target_valid, predictions)\n",
    "    probabilities_valid = model.predict_proba(features_valid)\n",
    "    probabilities_one_valid = probabilities_valid[:, 1]\n",
    "    auc_roc = roc_auc_score(target_valid, probabilities_one_valid)\n",
    "    data.append([est, f1, auc_roc])\n",
    "table = pd.DataFrame(data = data, columns=col)\n",
    "display(table[table['f1_score']==table['f1_score'].max()]) \n",
    "display(table[table['auc_roc']==table['auc_roc'].max()])"
   ]
  },
  {
   "cell_type": "markdown",
   "metadata": {},
   "source": [
    "<div class=\"alert alert-info\">\n",
    "    <b>Комментарий студента:</b> Как видим, взвешивание классов совершенно изменило результаты. Теперь лучши показатели метрик достигаются при других величинах параметра n_estimators(количество деревьев в лесу):\n",
    "\n",
    "максимальное значение F1-меры: 0.485, при n_estimators = 8\n",
    "максимальное значение метрики AUC-ROC: 0.837, при n_estimators = 98\n",
    "</div>"
   ]
  },
  {
   "cell_type": "markdown",
   "metadata": {},
   "source": [
    "<div class=\"alert alert-info\">\n",
    "    <b>Комментарий студента:</b> Далее рассмотрим такой вид борьбы с дисбалансом, как изменение порога классификации. Посмотрим, как меняются показатели F1-меры и метрики AUC-ROC с изменением значения порога от 0 до 1 для модели логистической регрессии:\n",
    "</div>"
   ]
  },
  {
   "cell_type": "code",
   "execution_count": null,
   "metadata": {
    "scrolled": true
   },
   "outputs": [],
   "source": [
    "model = LogisticRegression(random_state=12345, solver='liblinear')\n",
    "model.fit(features_train, target_train)\n",
    "probabilities_valid = model.predict_proba(features_valid)\n",
    "probabilities_one_valid = probabilities_valid[:, 1]\n",
    "\n",
    "col = ['порог', 'f1_score', 'auc_roc']\n",
    "data = []\n",
    "for threshold in np.arange(0, 1, 0.02):\n",
    "    predicted_valid = probabilities_one_valid > threshold\n",
    "    valid_f1_score = f1_score(target_valid, predicted_valid )\n",
    "    auc_roc = roc_auc_score(target_valid, probabilities_one_valid)\n",
    "    data.append([threshold, valid_f1_score, auc_roc])\n",
    "table = pd.DataFrame(data = data, columns=col)\n",
    "display(table[table['f1_score']==table['f1_score'].max()]) \n",
    "display(table[table['auc_roc']==table['auc_roc'].max()].head())"
   ]
  },
  {
   "cell_type": "markdown",
   "metadata": {},
   "source": [
    "<div class=\"alert alert-info\">\n",
    "    <b>Комментарий студента:</b> Максимально значение F1-меры в 0.370 достишается при порог = 0.14. Метрика AUC-ROC равна 0.611.\n",
    "</div>"
   ]
  },
  {
   "cell_type": "code",
   "execution_count": null,
   "metadata": {
    "scrolled": true
   },
   "outputs": [],
   "source": [
    "model =  DecisionTreeClassifier(random_state=12345, max_depth=5, class_weight='balanced')\n",
    "model.fit(features_train, target_train)\n",
    "probabilities_valid = model.predict_proba(features_valid)\n",
    "probabilities_one_valid = probabilities_valid[:, 1]\n",
    "\n",
    "col = ['порог', 'f1_score', 'auc_roc']\n",
    "data = []\n",
    "for threshold in np.arange(0, 1, 0.02):\n",
    "    predicted_valid = probabilities_one_valid > threshold\n",
    "    valid_f1_score = f1_score(target_valid, predicted_valid )\n",
    "    auc_roc = roc_auc_score(target_valid, probabilities_one_valid)\n",
    "    data.append([threshold, valid_f1_score, auc_roc])\n",
    "table = pd.DataFrame(data = data, columns=col)\n",
    "display(table[table['f1_score']==table['f1_score'].max()]) \n",
    "display(table[table['auc_roc']==table['auc_roc'].max()].head())"
   ]
  },
  {
   "cell_type": "markdown",
   "metadata": {},
   "source": [
    "<div class=\"alert alert-info\">\n",
    "    <b>Комментарий студента:</b> Как видим, максимальное значение F1-меры (0.608) достигается при нескольких величинах порога. Примем за оптимальную наиболее близкую к величине по умолчанию (0.5) - 0.58. Значение метрики AUC-ROC при этом также максимальное и составляет 0.827.\n",
    "</div>"
   ]
  },
  {
   "cell_type": "code",
   "execution_count": null,
   "metadata": {
    "scrolled": true
   },
   "outputs": [],
   "source": [
    "model = RandomForestClassifier(random_state=12345, n_estimators=9, class_weight='balanced') \n",
    "model.fit(features_train, target_train)\n",
    "probabilities_valid = model.predict_proba(features_valid)\n",
    "probabilities_one_valid = probabilities_valid[:, 1]\n",
    "\n",
    "col = ['порог', 'f1_score', 'auc_roc']\n",
    "data = []\n",
    "for threshold in np.arange(0, 1, 0.02):\n",
    "    predicted_valid = probabilities_one_valid > threshold\n",
    "    valid_f1_score = f1_score(target_valid, predicted_valid )\n",
    "    auc_roc = roc_auc_score(target_valid, probabilities_one_valid)\n",
    "    data.append([threshold, valid_f1_score, auc_roc])\n",
    "table = pd.DataFrame(data = data, columns=col)\n",
    "display(table[table['f1_score']==table['f1_score'].max()]) \n",
    "display(table[table['auc_roc']==table['auc_roc'].max()].head())"
   ]
  },
  {
   "cell_type": "markdown",
   "metadata": {},
   "source": [
    "<div class=\"alert alert-info\">\n",
    "    <b>Комментарий студента:</b> Как видим, максимальное показатели достигается при нескольких величинах порога.\n",
    "</div>"
   ]
  },
  {
   "cell_type": "code",
   "execution_count": null,
   "metadata": {},
   "outputs": [],
   "source": [
    "best_model = None\n",
    "best_accuracy = 0\n",
    "best_est = 0\n",
    "best_depth = 0\n",
    "best_f1_score = 0\n",
    "\n",
    "for est in range(10, 51, 5):\n",
    "    for depth in range (1, 21):\n",
    "        model = RandomForestClassifier(random_state=12345, n_estimators=est, max_depth=depth, class_weight='balanced') \n",
    "        model.fit(features_train, target_train)\n",
    "        accuracy = model.score(features_valid, target_valid) \n",
    "        predicted_valid = model.predict(features_valid)\n",
    "        f1 = f1_score(target_valid, predicted_valid)\n",
    "        if f1 > best_f1_score:\n",
    "            best_model = model\n",
    "            best_accuracy = accuracy\n",
    "            best_est = est\n",
    "            best_depth = depth\n",
    "            best_f1_score = f1\n",
    "print(\"Accuracy по наилучшей f1_score модели на валидационной выборке:\", best_accuracy)\n",
    "print(\"Количество деревьев:\", best_est)\n",
    "print(\"Оптимальная глубина дерева:\", best_depth)\n",
    "print(\"Лучшая F1_score:\", best_f1_score)"
   ]
  },
  {
   "cell_type": "markdown",
   "metadata": {},
   "source": [
    "## Тестирование модели"
   ]
  },
  {
   "cell_type": "code",
   "execution_count": null,
   "metadata": {
    "scrolled": true
   },
   "outputs": [],
   "source": [
    "model =  DecisionTreeClassifier(random_state=12345, max_depth=5, class_weight='balanced')\n",
    "model.fit(features_train, target_train)\n",
    "probabilities_valid = model.predict_proba(features_valid)\n",
    "probabilities_one_valid = probabilities_valid[:, 1]\n",
    "\n",
    "threshold = 0.58\n",
    "predicted_valid = probabilities_one_valid > threshold\n",
    "valid_f1_score = f1_score(target_valid, predicted_valid )\n",
    "auc_roc = roc_auc_score(target_valid, probabilities_one_valid)\n",
    "print('Валидационная выборка:')\n",
    "print('F1-мера:', valid_f1_score)\n",
    "print('AUC-ROC:',auc_roc)\n",
    "probabilities_test = model.predict_proba(features_test)\n",
    "probabilities_one_test = probabilities_test[:, 1]\n",
    "predicted_test = probabilities_one_test > threshold\n",
    "test_f1_score = f1_score(target_test, predicted_test )\n",
    "auc_roc_test = roc_auc_score(target_test, probabilities_one_test)\n",
    "print('Тестовая выборка:')\n",
    "print('F1-мера:',test_f1_score)\n",
    "print('AUC-ROC:',auc_roc_test)\n"
   ]
  },
  {
   "cell_type": "code",
   "execution_count": null,
   "metadata": {
    "scrolled": true
   },
   "outputs": [],
   "source": [
    "names = ['stratified', 'most_frequent', 'prior', 'uniform']\n",
    "data = []\n",
    "col = ['name', 'f1_score_valid', 'auc_roc_valid', 'f1_score_test', 'auc_roc_test']\n",
    "for name in names:\n",
    "    new_dummy_classifier = DummyClassifier(strategy=name)\n",
    "    new_dummy_classifier.fit(features_train, target_train)\n",
    "\n",
    "    predictions_valid = new_dummy_classifier.predict(features_valid)\n",
    "    valid_accuracy = accuracy_score(target_valid, predictions)\n",
    "    valid_f1_score = f1_score(target_valid, predictions_valid )\n",
    "    auc_roc_valid = roc_auc_score(target_valid, predictions_valid)\n",
    "    test_predictions = new_dummy_classifier.predict(features_test)\n",
    "    test_accuracy = accuracy_score(target_test, test_predictions)\n",
    "    test_f1_score = f1_score(target_test, test_predictions )\n",
    "    auc_roc_test = roc_auc_score(target_test, test_predictions)\n",
    "    data.append([name, valid_f1_score, auc_roc_valid, test_f1_score, auc_roc_test])\n",
    "table = pd.DataFrame(data = data, columns=col)\n",
    "display(table[table['f1_score_test']==table['f1_score_test'].max()]) \n",
    "display(table[table['f1_score_valid']==table['f1_score_valid'].max()].head())\n"
   ]
  },
  {
   "cell_type": "markdown",
   "metadata": {},
   "source": [
    "<div class=\"alert alert-info\">\n",
    "    <b>Комментарий студента:</b> Как видим, показатели у лучшего (при значении параметра strategy='uniform') из фиктивных классификаторов намного ниже, чем у нашей модели, и находятся на уровне 0.29 для F1-меры, а также 0.498 - для метрики AUC-ROC.\n",
    "</div>"
   ]
  },
  {
   "cell_type": "markdown",
   "metadata": {},
   "source": [
    "<div class=\"alert alert-info\">\n",
    "    <b>Комментарий студента v2:</b> \n",
    "    В качестве лучшей модели была выбрана модель решающего дерева при значении гиперпараметра max_depth = 5, указании атрибута class_weight='balanced' f1, равным 0.597.\n",
    " \n",
    "- На валидационной выборке модель следующие результаты:\n",
    "* F1-мера: 0.608\n",
    "* AUC-ROC: 0.831\n",
    "- На тестовой выборке модель следующие результаты:\n",
    "\n",
    "* F1-мера: 0.60\n",
    "* AUC-ROC: 0.836\n",
    "Проверку на адекватность модель выдержала.\n",
    "</div>"
   ]
  },
  {
   "cell_type": "markdown",
   "metadata": {},
   "source": [
    "<div class=\"alert alert-info\">\n",
    "    <b>Комментарий студента:</b> ОБЩИЙ ВЫВОД: В качестве лучшей модели была выбрана модель решающего дерева при значении гиперпараметра max_depth = 5, указании атрибута class_weight='balanced' f1, равным 0.597.\n",
    "</div>"
   ]
  }
 ],
 "metadata": {
  "ExecuteTimeLog": [
   {
    "duration": 1106,
    "start_time": "2022-07-26T19:16:58.923Z"
   },
   {
    "duration": 83,
    "start_time": "2022-07-26T19:17:31.727Z"
   },
   {
    "duration": 20,
    "start_time": "2022-07-26T19:17:40.616Z"
   },
   {
    "duration": 14,
    "start_time": "2022-07-26T19:19:27.897Z"
   },
   {
    "duration": 12,
    "start_time": "2022-07-26T19:19:57.309Z"
   },
   {
    "duration": 4,
    "start_time": "2022-07-26T19:28:05.509Z"
   },
   {
    "duration": 11,
    "start_time": "2022-07-26T19:28:06.576Z"
   },
   {
    "duration": 1367,
    "start_time": "2022-07-31T16:53:25.173Z"
   },
   {
    "duration": 244,
    "start_time": "2022-07-31T16:53:26.543Z"
   },
   {
    "duration": 18,
    "start_time": "2022-07-31T16:53:26.789Z"
   },
   {
    "duration": 22,
    "start_time": "2022-07-31T16:53:27.533Z"
   },
   {
    "duration": 12,
    "start_time": "2022-07-31T16:53:28.224Z"
   },
   {
    "duration": 5,
    "start_time": "2022-07-31T16:53:31.205Z"
   },
   {
    "duration": 14,
    "start_time": "2022-07-31T16:53:31.736Z"
   },
   {
    "duration": 117,
    "start_time": "2022-07-31T17:06:32.094Z"
   },
   {
    "duration": 11,
    "start_time": "2022-07-31T17:12:58.212Z"
   },
   {
    "duration": 18,
    "start_time": "2022-07-31T17:13:13.406Z"
   },
   {
    "duration": 7,
    "start_time": "2022-07-31T17:14:32.149Z"
   },
   {
    "duration": 10,
    "start_time": "2022-07-31T17:14:35.195Z"
   },
   {
    "duration": 9,
    "start_time": "2022-07-31T17:14:37.127Z"
   },
   {
    "duration": 7,
    "start_time": "2022-07-31T17:14:53.447Z"
   },
   {
    "duration": 11,
    "start_time": "2022-07-31T17:16:05.551Z"
   },
   {
    "duration": 9,
    "start_time": "2022-07-31T17:16:08.559Z"
   },
   {
    "duration": 11,
    "start_time": "2022-07-31T17:16:09.045Z"
   },
   {
    "duration": 4,
    "start_time": "2022-07-31T17:16:09.693Z"
   },
   {
    "duration": 14,
    "start_time": "2022-07-31T17:16:59.479Z"
   },
   {
    "duration": 14,
    "start_time": "2022-07-31T17:28:51.504Z"
   },
   {
    "duration": 7,
    "start_time": "2022-07-31T17:29:05.185Z"
   },
   {
    "duration": 7,
    "start_time": "2022-07-31T17:31:54.208Z"
   },
   {
    "duration": 6,
    "start_time": "2022-07-31T17:32:00.535Z"
   },
   {
    "duration": 5,
    "start_time": "2022-07-31T17:32:20.897Z"
   },
   {
    "duration": 14,
    "start_time": "2022-07-31T17:32:39.226Z"
   },
   {
    "duration": 3,
    "start_time": "2022-07-31T17:47:22.540Z"
   },
   {
    "duration": 41,
    "start_time": "2022-07-31T17:47:24.342Z"
   },
   {
    "duration": 14,
    "start_time": "2022-07-31T17:47:24.947Z"
   },
   {
    "duration": 15,
    "start_time": "2022-07-31T17:47:27.064Z"
   },
   {
    "duration": 13,
    "start_time": "2022-07-31T17:47:27.894Z"
   },
   {
    "duration": 5,
    "start_time": "2022-07-31T17:47:28.724Z"
   },
   {
    "duration": 15,
    "start_time": "2022-07-31T17:47:30.185Z"
   },
   {
    "duration": 6,
    "start_time": "2022-07-31T17:47:33.034Z"
   },
   {
    "duration": 10,
    "start_time": "2022-07-31T17:47:33.705Z"
   },
   {
    "duration": 4,
    "start_time": "2022-07-31T17:47:34.294Z"
   },
   {
    "duration": 8,
    "start_time": "2022-07-31T17:47:35.830Z"
   },
   {
    "duration": 9,
    "start_time": "2022-07-31T17:47:36.691Z"
   },
   {
    "duration": 6,
    "start_time": "2022-07-31T17:47:37.632Z"
   },
   {
    "duration": 5,
    "start_time": "2022-07-31T17:47:40.826Z"
   },
   {
    "duration": 26,
    "start_time": "2022-07-31T17:47:42.852Z"
   },
   {
    "duration": 34,
    "start_time": "2022-07-31T17:50:15.310Z"
   },
   {
    "duration": 3,
    "start_time": "2022-07-31T17:51:14.266Z"
   },
   {
    "duration": 51,
    "start_time": "2022-07-31T17:51:15.205Z"
   },
   {
    "duration": 13,
    "start_time": "2022-07-31T17:51:16.285Z"
   },
   {
    "duration": 32,
    "start_time": "2022-07-31T17:51:16.698Z"
   },
   {
    "duration": 14,
    "start_time": "2022-07-31T17:51:18.227Z"
   },
   {
    "duration": 4,
    "start_time": "2022-07-31T17:51:18.635Z"
   },
   {
    "duration": 13,
    "start_time": "2022-07-31T17:51:20.396Z"
   },
   {
    "duration": 20,
    "start_time": "2022-07-31T17:51:22.901Z"
   },
   {
    "duration": 9,
    "start_time": "2022-07-31T17:51:23.379Z"
   },
   {
    "duration": 5,
    "start_time": "2022-07-31T17:51:23.740Z"
   },
   {
    "duration": 7,
    "start_time": "2022-07-31T17:51:24.337Z"
   },
   {
    "duration": 14,
    "start_time": "2022-07-31T17:51:25.603Z"
   },
   {
    "duration": 6,
    "start_time": "2022-07-31T17:51:26.234Z"
   },
   {
    "duration": 4,
    "start_time": "2022-07-31T17:51:28.865Z"
   },
   {
    "duration": 40,
    "start_time": "2022-07-31T17:51:30.283Z"
   },
   {
    "duration": 4,
    "start_time": "2022-07-31T17:51:53.638Z"
   },
   {
    "duration": 6,
    "start_time": "2022-07-31T17:51:58.318Z"
   },
   {
    "duration": 22,
    "start_time": "2022-07-31T17:51:59.145Z"
   },
   {
    "duration": 4,
    "start_time": "2022-07-31T17:53:42.963Z"
   },
   {
    "duration": 5,
    "start_time": "2022-07-31T17:53:47.183Z"
   },
   {
    "duration": 29,
    "start_time": "2022-07-31T17:53:47.899Z"
   },
   {
    "duration": 4,
    "start_time": "2022-07-31T17:55:33.678Z"
   },
   {
    "duration": 23,
    "start_time": "2022-07-31T17:55:34.560Z"
   },
   {
    "duration": 4,
    "start_time": "2022-07-31T18:08:34.204Z"
   },
   {
    "duration": 9,
    "start_time": "2022-07-31T18:32:22.205Z"
   },
   {
    "duration": 219,
    "start_time": "2022-07-31T18:32:29.552Z"
   },
   {
    "duration": 150,
    "start_time": "2022-07-31T18:35:48.841Z"
   },
   {
    "duration": 5,
    "start_time": "2022-07-31T18:35:49.719Z"
   },
   {
    "duration": 10,
    "start_time": "2022-07-31T18:35:51.043Z"
   },
   {
    "duration": 4,
    "start_time": "2022-07-31T18:37:57.849Z"
   },
   {
    "duration": 9,
    "start_time": "2022-07-31T18:38:03.260Z"
   },
   {
    "duration": 127,
    "start_time": "2022-07-31T18:38:40.938Z"
   },
   {
    "duration": 5,
    "start_time": "2022-07-31T18:38:41.598Z"
   },
   {
    "duration": 1077,
    "start_time": "2022-07-31T18:38:42.360Z"
   },
   {
    "duration": 6,
    "start_time": "2022-07-31T18:42:45.532Z"
   },
   {
    "duration": 5846,
    "start_time": "2022-07-31T18:43:45.162Z"
   },
   {
    "duration": 6433,
    "start_time": "2022-07-31T18:44:54.973Z"
   },
   {
    "duration": 4789,
    "start_time": "2022-07-31T18:45:59.226Z"
   },
   {
    "duration": 1199,
    "start_time": "2022-07-31T18:50:55.879Z"
   },
   {
    "duration": 42,
    "start_time": "2022-07-31T18:50:57.080Z"
   },
   {
    "duration": 15,
    "start_time": "2022-07-31T18:50:57.124Z"
   },
   {
    "duration": 21,
    "start_time": "2022-07-31T18:50:57.142Z"
   },
   {
    "duration": 11,
    "start_time": "2022-07-31T18:50:57.165Z"
   },
   {
    "duration": 5,
    "start_time": "2022-07-31T18:50:57.177Z"
   },
   {
    "duration": 13,
    "start_time": "2022-07-31T18:50:57.203Z"
   },
   {
    "duration": 225,
    "start_time": "2022-07-31T18:50:57.217Z"
   },
   {
    "duration": 162,
    "start_time": "2022-07-31T18:50:57.444Z"
   },
   {
    "duration": 5,
    "start_time": "2022-07-31T18:50:57.610Z"
   },
   {
    "duration": 672,
    "start_time": "2022-07-31T18:50:57.617Z"
   },
   {
    "duration": 15,
    "start_time": "2022-07-31T18:50:58.291Z"
   },
   {
    "duration": 5697,
    "start_time": "2022-07-31T18:50:58.309Z"
   },
   {
    "duration": 4701,
    "start_time": "2022-07-31T18:51:04.008Z"
   },
   {
    "duration": 1155,
    "start_time": "2022-07-31T18:52:11.805Z"
   },
   {
    "duration": 43,
    "start_time": "2022-07-31T18:52:12.963Z"
   },
   {
    "duration": 16,
    "start_time": "2022-07-31T18:52:13.008Z"
   },
   {
    "duration": 23,
    "start_time": "2022-07-31T18:52:13.026Z"
   },
   {
    "duration": 13,
    "start_time": "2022-07-31T18:52:13.053Z"
   },
   {
    "duration": 4,
    "start_time": "2022-07-31T18:52:13.068Z"
   },
   {
    "duration": 41,
    "start_time": "2022-07-31T18:52:13.074Z"
   },
   {
    "duration": 227,
    "start_time": "2022-07-31T18:52:13.117Z"
   },
   {
    "duration": 160,
    "start_time": "2022-07-31T18:52:13.346Z"
   },
   {
    "duration": 6,
    "start_time": "2022-07-31T18:52:13.508Z"
   },
   {
    "duration": 675,
    "start_time": "2022-07-31T18:52:13.516Z"
   },
   {
    "duration": 16,
    "start_time": "2022-07-31T18:52:14.193Z"
   },
   {
    "duration": 5993,
    "start_time": "2022-07-31T18:52:14.211Z"
   },
   {
    "duration": 4866,
    "start_time": "2022-07-31T18:52:20.208Z"
   },
   {
    "duration": 1112,
    "start_time": "2022-08-01T16:53:19.531Z"
   },
   {
    "duration": 88,
    "start_time": "2022-08-01T16:53:22.017Z"
   },
   {
    "duration": 14,
    "start_time": "2022-08-01T16:53:22.755Z"
   },
   {
    "duration": 19,
    "start_time": "2022-08-01T16:53:24.708Z"
   },
   {
    "duration": 11,
    "start_time": "2022-08-01T16:53:26.625Z"
   },
   {
    "duration": 4,
    "start_time": "2022-08-01T16:53:27.268Z"
   },
   {
    "duration": 15,
    "start_time": "2022-08-01T16:53:29.006Z"
   },
   {
    "duration": 203,
    "start_time": "2022-08-01T16:53:29.723Z"
   },
   {
    "duration": 144,
    "start_time": "2022-08-01T16:53:33.000Z"
   },
   {
    "duration": 5,
    "start_time": "2022-08-01T16:53:34.876Z"
   },
   {
    "duration": 621,
    "start_time": "2022-08-01T16:53:36.001Z"
   },
   {
    "duration": 7,
    "start_time": "2022-08-01T16:53:40.475Z"
   },
   {
    "duration": 5667,
    "start_time": "2022-08-01T16:53:43.971Z"
   },
   {
    "duration": 4274,
    "start_time": "2022-08-01T16:53:55.367Z"
   },
   {
    "duration": 340483,
    "start_time": "2022-08-01T16:54:08.062Z"
   },
   {
    "duration": 6278,
    "start_time": "2022-08-01T17:07:29.265Z"
   },
   {
    "duration": 4179,
    "start_time": "2022-08-01T17:11:59.266Z"
   },
   {
    "duration": 338142,
    "start_time": "2022-08-01T17:16:15.728Z"
   },
   {
    "duration": 4177,
    "start_time": "2022-08-01T17:21:53.871Z"
   },
   {
    "duration": 332606,
    "start_time": "2022-08-01T17:22:24.115Z"
   },
   {
    "duration": 254,
    "start_time": "2022-08-01T17:33:11.486Z"
   },
   {
    "duration": 50,
    "start_time": "2022-08-01T17:33:35.808Z"
   },
   {
    "duration": 1050,
    "start_time": "2022-08-01T17:39:20.923Z"
   },
   {
    "duration": 44,
    "start_time": "2022-08-01T17:39:21.975Z"
   },
   {
    "duration": 15,
    "start_time": "2022-08-01T17:39:22.021Z"
   },
   {
    "duration": 19,
    "start_time": "2022-08-01T17:39:22.039Z"
   },
   {
    "duration": 11,
    "start_time": "2022-08-01T17:39:22.060Z"
   },
   {
    "duration": 4,
    "start_time": "2022-08-01T17:39:22.072Z"
   },
   {
    "duration": 18,
    "start_time": "2022-08-01T17:39:22.078Z"
   },
   {
    "duration": 218,
    "start_time": "2022-08-01T17:39:22.097Z"
   },
   {
    "duration": 146,
    "start_time": "2022-08-01T17:39:22.317Z"
   },
   {
    "duration": 4,
    "start_time": "2022-08-01T17:39:22.466Z"
   },
   {
    "duration": 633,
    "start_time": "2022-08-01T17:39:22.471Z"
   },
   {
    "duration": 7,
    "start_time": "2022-08-01T17:39:23.106Z"
   },
   {
    "duration": 5124,
    "start_time": "2022-08-01T17:39:23.114Z"
   },
   {
    "duration": 4424,
    "start_time": "2022-08-01T17:39:28.239Z"
   },
   {
    "duration": 337845,
    "start_time": "2022-08-01T17:39:32.665Z"
   },
   {
    "duration": 7232,
    "start_time": "2022-08-01T17:45:10.512Z"
   },
   {
    "duration": 4398,
    "start_time": "2022-08-01T17:45:17.746Z"
   },
   {
    "duration": 332331,
    "start_time": "2022-08-01T17:45:22.146Z"
   },
   {
    "duration": 267,
    "start_time": "2022-08-01T17:50:54.478Z"
   },
   {
    "duration": 43,
    "start_time": "2022-08-01T17:50:54.747Z"
   },
   {
    "duration": 5622,
    "start_time": "2022-08-01T17:57:12.942Z"
   },
   {
    "duration": 369,
    "start_time": "2022-08-01T17:59:12.956Z"
   },
   {
    "duration": 764,
    "start_time": "2022-08-01T18:00:53.568Z"
   },
   {
    "duration": 3,
    "start_time": "2022-08-01T18:02:12.782Z"
   },
   {
    "duration": 35,
    "start_time": "2022-08-01T18:02:13.446Z"
   },
   {
    "duration": 11,
    "start_time": "2022-08-01T18:02:14.915Z"
   },
   {
    "duration": 12,
    "start_time": "2022-08-01T18:02:15.633Z"
   },
   {
    "duration": 10,
    "start_time": "2022-08-01T18:02:17.730Z"
   },
   {
    "duration": 6,
    "start_time": "2022-08-01T18:02:18.335Z"
   },
   {
    "duration": 15,
    "start_time": "2022-08-01T18:02:19.017Z"
   },
   {
    "duration": 200,
    "start_time": "2022-08-01T18:02:20.613Z"
   },
   {
    "duration": 119,
    "start_time": "2022-08-01T18:02:21.864Z"
   },
   {
    "duration": 4,
    "start_time": "2022-08-01T18:02:23.303Z"
   },
   {
    "duration": 603,
    "start_time": "2022-08-01T18:02:24.060Z"
   },
   {
    "duration": 8,
    "start_time": "2022-08-01T18:02:28.886Z"
   },
   {
    "duration": 5578,
    "start_time": "2022-08-01T18:02:31.565Z"
   },
   {
    "duration": 4272,
    "start_time": "2022-08-01T18:02:44.054Z"
   },
   {
    "duration": 335760,
    "start_time": "2022-08-01T18:03:18.596Z"
   },
   {
    "duration": 6687,
    "start_time": "2022-08-01T18:10:29.355Z"
   },
   {
    "duration": 4176,
    "start_time": "2022-08-01T18:11:44.110Z"
   },
   {
    "duration": 337325,
    "start_time": "2022-08-01T18:11:51.024Z"
   },
   {
    "duration": 5595,
    "start_time": "2022-08-01T18:17:35.067Z"
   },
   {
    "duration": 374,
    "start_time": "2022-08-01T18:17:44.212Z"
   },
   {
    "duration": 813,
    "start_time": "2022-08-01T18:17:48.347Z"
   },
   {
    "duration": 254,
    "start_time": "2022-08-01T18:17:53.617Z"
   },
   {
    "duration": 39,
    "start_time": "2022-08-01T18:17:55.284Z"
   },
   {
    "duration": 1076,
    "start_time": "2022-08-01T18:18:22.379Z"
   },
   {
    "duration": 39,
    "start_time": "2022-08-01T18:18:23.457Z"
   },
   {
    "duration": 15,
    "start_time": "2022-08-01T18:18:23.498Z"
   },
   {
    "duration": 22,
    "start_time": "2022-08-01T18:18:23.515Z"
   },
   {
    "duration": 12,
    "start_time": "2022-08-01T18:18:23.538Z"
   },
   {
    "duration": 4,
    "start_time": "2022-08-01T18:18:23.552Z"
   },
   {
    "duration": 18,
    "start_time": "2022-08-01T18:18:23.558Z"
   },
   {
    "duration": 213,
    "start_time": "2022-08-01T18:18:23.578Z"
   },
   {
    "duration": 153,
    "start_time": "2022-08-01T18:18:23.792Z"
   },
   {
    "duration": 4,
    "start_time": "2022-08-01T18:18:23.948Z"
   },
   {
    "duration": 640,
    "start_time": "2022-08-01T18:18:23.954Z"
   },
   {
    "duration": 6,
    "start_time": "2022-08-01T18:18:24.596Z"
   },
   {
    "duration": 5440,
    "start_time": "2022-08-01T18:18:24.604Z"
   },
   {
    "duration": 4447,
    "start_time": "2022-08-01T18:18:30.046Z"
   },
   {
    "duration": 338313,
    "start_time": "2022-08-01T18:18:34.494Z"
   },
   {
    "duration": 7335,
    "start_time": "2022-08-01T18:24:12.809Z"
   },
   {
    "duration": 4316,
    "start_time": "2022-08-01T18:24:20.146Z"
   },
   {
    "duration": 335192,
    "start_time": "2022-08-01T18:24:24.464Z"
   },
   {
    "duration": 5609,
    "start_time": "2022-08-01T18:29:59.658Z"
   },
   {
    "duration": 378,
    "start_time": "2022-08-01T18:30:05.269Z"
   },
   {
    "duration": 789,
    "start_time": "2022-08-01T18:30:05.648Z"
   },
   {
    "duration": 266,
    "start_time": "2022-08-01T18:30:06.439Z"
   },
   {
    "duration": 48,
    "start_time": "2022-08-01T18:30:06.707Z"
   },
   {
    "duration": 1160,
    "start_time": "2022-08-03T18:37:39.287Z"
   },
   {
    "duration": 76,
    "start_time": "2022-08-03T18:37:41.684Z"
   },
   {
    "duration": 14,
    "start_time": "2022-08-03T18:37:41.978Z"
   },
   {
    "duration": 18,
    "start_time": "2022-08-03T18:37:46.233Z"
   },
   {
    "duration": 11,
    "start_time": "2022-08-03T18:37:46.730Z"
   },
   {
    "duration": 3,
    "start_time": "2022-08-03T18:37:48.386Z"
   },
   {
    "duration": 13,
    "start_time": "2022-08-03T18:37:51.329Z"
   },
   {
    "duration": 229,
    "start_time": "2022-08-03T18:37:54.025Z"
   },
   {
    "duration": 117,
    "start_time": "2022-08-03T18:37:55.585Z"
   },
   {
    "duration": 4,
    "start_time": "2022-08-03T18:37:58.163Z"
   },
   {
    "duration": 532,
    "start_time": "2022-08-03T18:37:59.338Z"
   },
   {
    "duration": 61227,
    "start_time": "2022-08-03T18:38:02.345Z"
   },
   {
    "duration": 108,
    "start_time": "2022-08-03T18:45:15.762Z"
   },
   {
    "duration": 12,
    "start_time": "2022-08-03T18:45:40.533Z"
   },
   {
    "duration": 35,
    "start_time": "2022-08-03T18:45:45.060Z"
   },
   {
    "duration": 10,
    "start_time": "2022-08-03T18:45:45.741Z"
   },
   {
    "duration": 13,
    "start_time": "2022-08-03T18:45:46.177Z"
   },
   {
    "duration": 10,
    "start_time": "2022-08-03T18:45:46.580Z"
   },
   {
    "duration": 5,
    "start_time": "2022-08-03T18:45:47.031Z"
   },
   {
    "duration": 14,
    "start_time": "2022-08-03T18:45:51.014Z"
   },
   {
    "duration": 5,
    "start_time": "2022-08-03T18:45:52.667Z"
   },
   {
    "duration": 9,
    "start_time": "2022-08-03T18:45:56.764Z"
   },
   {
    "duration": 10,
    "start_time": "2022-08-03T18:46:06.847Z"
   },
   {
    "duration": 1071,
    "start_time": "2022-08-03T19:06:24.073Z"
   },
   {
    "duration": 39,
    "start_time": "2022-08-03T19:06:25.146Z"
   },
   {
    "duration": 13,
    "start_time": "2022-08-03T19:06:25.186Z"
   },
   {
    "duration": 27,
    "start_time": "2022-08-03T19:06:25.201Z"
   },
   {
    "duration": 11,
    "start_time": "2022-08-03T19:06:25.230Z"
   },
   {
    "duration": 4,
    "start_time": "2022-08-03T19:06:25.242Z"
   },
   {
    "duration": 14,
    "start_time": "2022-08-03T19:06:25.247Z"
   },
   {
    "duration": 8,
    "start_time": "2022-08-03T19:06:25.262Z"
   },
   {
    "duration": 54,
    "start_time": "2022-08-03T19:06:25.271Z"
   },
   {
    "duration": 15,
    "start_time": "2022-08-03T19:06:25.327Z"
   },
   {
    "duration": 8,
    "start_time": "2022-08-03T19:06:25.343Z"
   },
   {
    "duration": 4,
    "start_time": "2022-08-03T19:06:25.352Z"
   },
   {
    "duration": 16,
    "start_time": "2022-08-03T19:06:25.357Z"
   },
   {
    "duration": 7,
    "start_time": "2022-08-03T19:06:25.375Z"
   },
   {
    "duration": 68,
    "start_time": "2022-08-03T19:06:25.384Z"
   },
   {
    "duration": 0,
    "start_time": "2022-08-03T19:06:25.453Z"
   },
   {
    "duration": 0,
    "start_time": "2022-08-03T19:06:25.455Z"
   },
   {
    "duration": 0,
    "start_time": "2022-08-03T19:06:25.455Z"
   },
   {
    "duration": 0,
    "start_time": "2022-08-03T19:06:25.456Z"
   },
   {
    "duration": 0,
    "start_time": "2022-08-03T19:06:25.457Z"
   },
   {
    "duration": 0,
    "start_time": "2022-08-03T19:06:25.458Z"
   },
   {
    "duration": 0,
    "start_time": "2022-08-03T19:06:25.459Z"
   },
   {
    "duration": 0,
    "start_time": "2022-08-03T19:06:25.460Z"
   },
   {
    "duration": 0,
    "start_time": "2022-08-03T19:06:25.461Z"
   },
   {
    "duration": 0,
    "start_time": "2022-08-03T19:06:25.462Z"
   },
   {
    "duration": 0,
    "start_time": "2022-08-03T19:06:25.463Z"
   },
   {
    "duration": 1248,
    "start_time": "2022-10-15T12:37:30.709Z"
   },
   {
    "duration": 203,
    "start_time": "2022-10-15T12:37:31.959Z"
   },
   {
    "duration": 22,
    "start_time": "2022-10-15T12:37:32.164Z"
   },
   {
    "duration": 52,
    "start_time": "2022-10-15T12:37:32.188Z"
   },
   {
    "duration": 13,
    "start_time": "2022-10-15T12:37:32.243Z"
   },
   {
    "duration": 5,
    "start_time": "2022-10-15T12:37:32.258Z"
   },
   {
    "duration": 20,
    "start_time": "2022-10-15T12:37:32.265Z"
   },
   {
    "duration": 28,
    "start_time": "2022-10-15T12:37:32.287Z"
   },
   {
    "duration": 24,
    "start_time": "2022-10-15T12:37:32.318Z"
   },
   {
    "duration": 14,
    "start_time": "2022-10-15T12:37:32.346Z"
   },
   {
    "duration": 17,
    "start_time": "2022-10-15T12:37:32.362Z"
   },
   {
    "duration": 6,
    "start_time": "2022-10-15T12:37:32.381Z"
   },
   {
    "duration": 40,
    "start_time": "2022-10-15T12:37:32.389Z"
   },
   {
    "duration": 9,
    "start_time": "2022-10-15T12:37:32.431Z"
   },
   {
    "duration": 90,
    "start_time": "2022-10-15T12:37:32.443Z"
   },
   {
    "duration": 0,
    "start_time": "2022-10-15T12:37:32.535Z"
   },
   {
    "duration": 0,
    "start_time": "2022-10-15T12:37:32.537Z"
   },
   {
    "duration": 0,
    "start_time": "2022-10-15T12:37:32.538Z"
   },
   {
    "duration": 0,
    "start_time": "2022-10-15T12:37:32.539Z"
   },
   {
    "duration": 0,
    "start_time": "2022-10-15T12:37:32.540Z"
   },
   {
    "duration": 0,
    "start_time": "2022-10-15T12:37:32.542Z"
   },
   {
    "duration": 0,
    "start_time": "2022-10-15T12:37:32.543Z"
   },
   {
    "duration": 0,
    "start_time": "2022-10-15T12:37:32.545Z"
   },
   {
    "duration": 0,
    "start_time": "2022-10-15T12:37:32.546Z"
   },
   {
    "duration": 0,
    "start_time": "2022-10-15T12:37:32.547Z"
   },
   {
    "duration": 1,
    "start_time": "2022-10-15T12:37:32.548Z"
   }
  ],
  "kernelspec": {
   "display_name": "Python 3 (ipykernel)",
   "language": "python",
   "name": "python3"
  },
  "language_info": {
   "codemirror_mode": {
    "name": "ipython",
    "version": 3
   },
   "file_extension": ".py",
   "mimetype": "text/x-python",
   "name": "python",
   "nbconvert_exporter": "python",
   "pygments_lexer": "ipython3",
   "version": "3.9.12"
  },
  "toc": {
   "base_numbering": 1,
   "nav_menu": {},
   "number_sections": true,
   "sideBar": true,
   "skip_h1_title": true,
   "title_cell": "Содержание",
   "title_sidebar": "Contents",
   "toc_cell": true,
   "toc_position": {},
   "toc_section_display": true,
   "toc_window_display": true
  }
 },
 "nbformat": 4,
 "nbformat_minor": 2
}
